{
 "cells": [
  {
   "cell_type": "code",
   "execution_count": 1,
   "metadata": {},
   "outputs": [],
   "source": [
    "import json\n",
    "import pathlib\n",
    "from gpt3 import MewlCaptioner\n",
    "from tqdm import tqdm"
   ]
  },
  {
   "cell_type": "code",
   "execution_count": 2,
   "metadata": {},
   "outputs": [],
   "source": [
    "captioner = MewlCaptioner()"
   ]
  },
  {
   "cell_type": "code",
   "execution_count": 3,
   "metadata": {},
   "outputs": [],
   "source": [
    "def test_task(captioner, dataset_path, task_name):\n",
    "    dataset_path = pathlib.Path(dataset_path) / task_name\n",
    "    all_episodes = dataset_path.glob('*/')\n",
    "    all_episodes = sorted(all_episodes, key=lambda x: int(x.name))\n",
    "\n",
    "    all_datasets = []\n",
    "\n",
    "    caption_func = getattr(captioner, task_name)\n",
    "\n",
    "    for i, epi in tqdm(enumerate(all_episodes), total=len(all_episodes)):\n",
    "        prompt = \"\"\n",
    "        contexts, query = caption_func(epi)\n",
    "        for context in contexts:\n",
    "            prompt += f\"Context: {context[0]}\\nName: {context[1]}\\n\\n\"\n",
    "\n",
    "        prompt += f\"Context: {query[0]}\\nName: \"\n",
    "\n",
    "        query_description, choices, answer = query\n",
    "\n",
    "        label = choices.index(answer)\n",
    "\n",
    "        all_datasets.append({\n",
    "            \"start_phrase\": prompt,\n",
    "            \"choices\": choices,\n",
    "            \"label\": label,\n",
    "            \"task\": task_name\n",
    "        })\n",
    "\n",
    "    return all_datasets"
   ]
  },
  {
   "cell_type": "code",
   "execution_count": 4,
   "metadata": {},
   "outputs": [],
   "source": [
    "dataset_path = pathlib.Path(\"/gpfs/data/epavlick/tyun/llm_causal_reasoning/MEWL/rendered_data/mewl/\")"
   ]
  },
  {
   "cell_type": "code",
   "execution_count": 5,
   "metadata": {},
   "outputs": [
    {
     "name": "stderr",
     "output_type": "stream",
     "text": [
      "100%|██████████| 3000/3000 [00:06<00:00, 494.30it/s]\n",
      "100%|██████████| 600/600 [00:01<00:00, 444.97it/s]\n",
      "100%|██████████| 600/600 [00:01<00:00, 484.45it/s]\n",
      "100%|██████████| 3000/3000 [00:07<00:00, 421.56it/s]\n",
      "100%|██████████| 600/600 [00:01<00:00, 327.99it/s]\n",
      "100%|██████████| 600/600 [00:01<00:00, 433.18it/s]\n",
      "100%|██████████| 3000/3000 [00:06<00:00, 481.51it/s]\n",
      "100%|██████████| 600/600 [00:01<00:00, 449.50it/s]\n",
      "100%|██████████| 600/600 [00:01<00:00, 469.95it/s]\n",
      "100%|██████████| 3000/3000 [00:52<00:00, 57.57it/s]\n",
      "100%|██████████| 600/600 [00:11<00:00, 50.89it/s]\n",
      "100%|██████████| 600/600 [00:12<00:00, 48.49it/s]\n",
      "100%|██████████| 3000/3000 [00:08<00:00, 361.78it/s]\n",
      "100%|██████████| 600/600 [00:01<00:00, 386.51it/s]\n",
      "100%|██████████| 600/600 [00:01<00:00, 303.20it/s]\n",
      "100%|██████████| 3000/3000 [00:09<00:00, 319.87it/s]\n",
      "100%|██████████| 600/600 [00:02<00:00, 295.08it/s]\n",
      "100%|██████████| 600/600 [00:01<00:00, 446.40it/s]\n",
      "100%|██████████| 3000/3000 [00:06<00:00, 429.61it/s]\n",
      "100%|██████████| 600/600 [00:01<00:00, 392.14it/s]\n",
      "100%|██████████| 600/600 [00:01<00:00, 461.61it/s]\n",
      "100%|██████████| 3000/3000 [00:06<00:00, 488.32it/s]\n",
      "100%|██████████| 600/600 [00:01<00:00, 430.14it/s]\n",
      "100%|██████████| 600/600 [00:01<00:00, 461.52it/s]\n",
      "100%|██████████| 3000/3000 [00:50<00:00, 58.84it/s]\n",
      "100%|██████████| 600/600 [00:10<00:00, 58.88it/s]\n",
      "100%|██████████| 600/600 [00:10<00:00, 55.56it/s]\n"
     ]
    }
   ],
   "source": [
    "from model.consts import task_names\n",
    "\n",
    "for task in task_names:\n",
    "    dataset = {}\n",
    "    for split in [\"train\", \"val\", \"test\"]:\n",
    "        dataset[split] = test_task(captioner, dataset_path / split, task)\n",
    "\n",
    "    with open(f\"/gpfs/data/epavlick/tyun/llm_causal_reasoning/MEWL/rendered_data/{task}.json\", \"w+\") as f:\n",
    "        json.dump(dataset, f, indent=4)"
   ]
  }
 ],
 "metadata": {
  "kernelspec": {
   "display_name": "torch",
   "language": "python",
   "name": "python3"
  },
  "language_info": {
   "codemirror_mode": {
    "name": "ipython",
    "version": 3
   },
   "file_extension": ".py",
   "mimetype": "text/x-python",
   "name": "python",
   "nbconvert_exporter": "python",
   "pygments_lexer": "ipython3",
   "version": "3.10.14"
  },
  "orig_nbformat": 4,
  "vscode": {
   "interpreter": {
    "hash": "2ef4b250f365802f7fd34160c56cd38113d88eaa03c9b2fc949a23f7804a6111"
   }
  }
 },
 "nbformat": 4,
 "nbformat_minor": 2
}
